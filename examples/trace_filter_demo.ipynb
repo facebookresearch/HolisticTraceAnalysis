{
  "cells": [
    {
      "cell_type": "markdown",
      "id": "6a695a40c7f0302d",
      "metadata": {
        "collapsed": false,
        "jupyter": {
          "outputs_hidden": false
        }
      },
      "source": [
        "# Trace Filter Overview\n",
        "\n",
        "A trace filter is a callable object which extracts a set of events that match a set of criteria from a Trace Data\n",
        "Frame. Trace filters are essential to trace analysis as they effectively narrows down the data set to enable more \n",
        "efficient and targeted analysis.\n",
        "\n",
        "A trace filter object operates similarly to a customizable function that is invoked via a consistent interface. \n",
        "Users can use or define a Trace Filter class to specify which trace data should be captured or ignored.\n",
        "\n",
        "The basic use pattern of trace filters is as follows:\n",
        "\n",
        "```\n",
        "from hta.common.trace_filter import Filter, IterationIndexFilter, NameFilter\n",
        "\n",
        "# get df and trace_symbol_table from the parsed tarces. \n",
        "df = ...\n",
        "trace_symbol_table = ...\n",
        "\n",
        "# extract trace events in the first and scond iterations.\n",
        "filter_func1 = IterationIndexFilter(iteration_index=[0, 1])\n",
        "filtered_df1 = filter_func1(df)\n",
        "\n",
        "# extract trace events whose name starts with \"nccl\".\n",
        "filter_func2 = NameFilter(name_pattern=r\"^nccl\")\n",
        "filtered_df2 = filter_func2(df, trace_symbol_table)\n",
        "``` "
      ]
    },
    {
      "cell_type": "markdown",
      "id": "4e1337db1baa8e6",
      "metadata": {
        "collapsed": false,
        "jupyter": {
          "outputs_hidden": false
        }
      },
      "source": [
        "# Code Examples"
      ]
    },
    {
      "cell_type": "markdown",
      "id": "ae03ee7026bf6741",
      "metadata": {
        "collapsed": false,
        "jupyter": {
          "outputs_hidden": false
        }
      },
      "source": [
        "## Load a trace collection"
      ]
    },
    {
      "cell_type": "code",
      "execution_count": null,
      "id": "febcf5c87813cf45",
      "metadata": {
        "ExecuteTime": {
          "end_time": "2023-12-29T00:46:28.169741Z",
          "start_time": "2023-12-29T00:46:26.991759Z"
        },
        "collapsed": false,
        "jupyter": {
          "outputs_hidden": false
        }
      },
      "outputs": [],
      "source": [
        "from hta.common.trace import Trace\n",
        "import hta\n",
        "import os\n",
        "from pathlib import Path\n",
        "\n",
        "# Load the traces in a folder\n",
        "base_data_dir = str(Path(hta.__file__).parent.parent.joinpath(\"tests/data\"))\n",
        "trace_dir: str = os.path.join(base_data_dir, \"trace_filter\")\n",
        "t = Trace(trace_dir=os.path.join(base_data_dir, \"trace_filter\"))\n",
        "t.parse_traces()\n",
        "\n",
        "# Decode the symbol columns (i.e., `name` and `cat`) \n",
        "t.decode_symbol_ids()\n",
        "\n",
        "df = t.get_trace(0)\n",
        "symbol_table = t.symbol_table"
      ]
    },
    {
      "cell_type": "markdown",
      "id": "9ff31cb4c1f87095",
      "metadata": {
        "collapsed": false,
        "jupyter": {
          "outputs_hidden": false
        }
      },
      "source": [
        "## Filter events by name patterns"
      ]
    },
    {
      "cell_type": "code",
      "execution_count": null,
      "id": "5ee2bb1346ccdd43",
      "metadata": {
        "ExecuteTime": {
          "end_time": "2023-12-29T00:46:28.199040Z",
          "start_time": "2023-12-29T00:46:28.170854Z"
        },
        "collapsed": false,
        "jupyter": {
          "outputs_hidden": false
        }
      },
      "outputs": [
        {
          "name": "stdout",
          "output_type": "stream",
          "text": [
            "Found 378 matching events.\n"
          ]
        },
        {
          "data": {
            "text/html": [
              "<div>\n",
              "<style scoped>\n",
              "    .dataframe tbody tr th:only-of-type {\n",
              "        vertical-align: middle;\n",
              "    }\n",
              "\n",
              "    .dataframe tbody tr th {\n",
              "        vertical-align: top;\n",
              "    }\n",
              "\n",
              "    .dataframe thead th {\n",
              "        text-align: right;\n",
              "    }\n",
              "</style>\n",
              "<table border=\"1\" class=\"dataframe\">\n",
              "  <thead>\n",
              "    <tr style=\"text-align: right;\">\n",
              "      <th></th>\n",
              "      <th>iteration</th>\n",
              "      <th>index</th>\n",
              "      <th>ts</th>\n",
              "      <th>dur</th>\n",
              "      <th>stream</th>\n",
              "      <th>s_cat</th>\n",
              "      <th>s_name</th>\n",
              "    </tr>\n",
              "  </thead>\n",
              "  <tbody>\n",
              "    <tr>\n",
              "      <th>13</th>\n",
              "      <td>551</td>\n",
              "      <td>13</td>\n",
              "      <td>1682725898237042</td>\n",
              "      <td>60.0</td>\n",
              "      <td>-1</td>\n",
              "      <td>cpu_op</td>\n",
              "      <td>aten::mm</td>\n",
              "    </tr>\n",
              "    <tr>\n",
              "      <th>14</th>\n",
              "      <td>551</td>\n",
              "      <td>14</td>\n",
              "      <td>1682725898237110</td>\n",
              "      <td>33.0</td>\n",
              "      <td>-1</td>\n",
              "      <td>cpu_op</td>\n",
              "      <td>aten::mm</td>\n",
              "    </tr>\n",
              "    <tr>\n",
              "      <th>74</th>\n",
              "      <td>551</td>\n",
              "      <td>74</td>\n",
              "      <td>1682725898239892</td>\n",
              "      <td>95.0</td>\n",
              "      <td>-1</td>\n",
              "      <td>cpu_op</td>\n",
              "      <td>aten::mm</td>\n",
              "    </tr>\n",
              "    <tr>\n",
              "      <th>77</th>\n",
              "      <td>551</td>\n",
              "      <td>77</td>\n",
              "      <td>1682725898240570</td>\n",
              "      <td>51.0</td>\n",
              "      <td>-1</td>\n",
              "      <td>cpu_op</td>\n",
              "      <td>aten::mm</td>\n",
              "    </tr>\n",
              "    <tr>\n",
              "      <th>78</th>\n",
              "      <td>551</td>\n",
              "      <td>78</td>\n",
              "      <td>1682725898240628</td>\n",
              "      <td>43.0</td>\n",
              "      <td>-1</td>\n",
              "      <td>cpu_op</td>\n",
              "      <td>aten::mm</td>\n",
              "    </tr>\n",
              "  </tbody>\n",
              "</table>\n",
              "</div>"
            ],
            "text/plain": [
              "    iteration  index                ts   dur  stream   s_cat    s_name\n",
              "13        551     13  1682725898237042  60.0      -1  cpu_op  aten::mm\n",
              "14        551     14  1682725898237110  33.0      -1  cpu_op  aten::mm\n",
              "74        551     74  1682725898239892  95.0      -1  cpu_op  aten::mm\n",
              "77        551     77  1682725898240570  51.0      -1  cpu_op  aten::mm\n",
              "78        551     78  1682725898240628  43.0      -1  cpu_op  aten::mm"
            ]
          },
          "execution_count": 2,
          "metadata": {},
          "output_type": "execute_result"
        }
      ],
      "source": [
        "from hta.common.trace_filter import NameFilter\n",
        "\n",
        "name_filter = NameFilter(\"aten::.*mm\")\n",
        "selected_df = name_filter(df, symbol_table)\n",
        "print(f\"Found {len(selected_df)} matching events.\")\n",
        "selected_df.head()[[\"iteration\", \"index\", \"ts\", \"dur\", \"stream\", \"s_cat\", \"s_name\"]]"
      ]
    },
    {
      "cell_type": "markdown",
      "id": "7686ab567a6aa005",
      "metadata": {
        "collapsed": false,
        "jupyter": {
          "outputs_hidden": false
        }
      },
      "source": [
        "## Filter events by a time range"
      ]
    },
    {
      "cell_type": "code",
      "execution_count": null,
      "id": "9dd1dc75c3c201f2",
      "metadata": {
        "ExecuteTime": {
          "end_time": "2023-12-29T00:46:28.204104Z",
          "start_time": "2023-12-29T00:46:28.198958Z"
        },
        "collapsed": false,
        "jupyter": {
          "outputs_hidden": false
        }
      },
      "outputs": [
        {
          "name": "stdout",
          "output_type": "stream",
          "text": [
            "Found 93 matching events.\n"
          ]
        },
        {
          "data": {
            "text/html": [
              "<div>\n",
              "<style scoped>\n",
              "    .dataframe tbody tr th:only-of-type {\n",
              "        vertical-align: middle;\n",
              "    }\n",
              "\n",
              "    .dataframe tbody tr th {\n",
              "        vertical-align: top;\n",
              "    }\n",
              "\n",
              "    .dataframe thead th {\n",
              "        text-align: right;\n",
              "    }\n",
              "</style>\n",
              "<table border=\"1\" class=\"dataframe\">\n",
              "  <thead>\n",
              "    <tr style=\"text-align: right;\">\n",
              "      <th></th>\n",
              "      <th>iteration</th>\n",
              "      <th>index</th>\n",
              "      <th>ts</th>\n",
              "      <th>dur</th>\n",
              "      <th>stream</th>\n",
              "      <th>s_cat</th>\n",
              "      <th>s_name</th>\n",
              "    </tr>\n",
              "  </thead>\n",
              "  <tbody>\n",
              "    <tr>\n",
              "      <th>13</th>\n",
              "      <td>551</td>\n",
              "      <td>13</td>\n",
              "      <td>1682725898237042</td>\n",
              "      <td>60.0</td>\n",
              "      <td>-1</td>\n",
              "      <td>cpu_op</td>\n",
              "      <td>aten::mm</td>\n",
              "    </tr>\n",
              "    <tr>\n",
              "      <th>14</th>\n",
              "      <td>551</td>\n",
              "      <td>14</td>\n",
              "      <td>1682725898237110</td>\n",
              "      <td>33.0</td>\n",
              "      <td>-1</td>\n",
              "      <td>cpu_op</td>\n",
              "      <td>aten::mm</td>\n",
              "    </tr>\n",
              "    <tr>\n",
              "      <th>15</th>\n",
              "      <td>551</td>\n",
              "      <td>15</td>\n",
              "      <td>1682725898237194</td>\n",
              "      <td>57.0</td>\n",
              "      <td>-1</td>\n",
              "      <td>cpu_op</td>\n",
              "      <td>SoftmaxBackward0</td>\n",
              "    </tr>\n",
              "    <tr>\n",
              "      <th>16</th>\n",
              "      <td>551</td>\n",
              "      <td>16</td>\n",
              "      <td>1682725898237196</td>\n",
              "      <td>51.0</td>\n",
              "      <td>-1</td>\n",
              "      <td>cpu_op</td>\n",
              "      <td>SoftmaxBackward0</td>\n",
              "    </tr>\n",
              "    <tr>\n",
              "      <th>17</th>\n",
              "      <td>551</td>\n",
              "      <td>17</td>\n",
              "      <td>1682725898237201</td>\n",
              "      <td>45.0</td>\n",
              "      <td>-1</td>\n",
              "      <td>cpu_op</td>\n",
              "      <td>aten::_softmax_backward_data</td>\n",
              "    </tr>\n",
              "  </tbody>\n",
              "</table>\n",
              "</div>"
            ],
            "text/plain": [
              "    iteration  index                ts   dur  stream   s_cat  \\\n",
              "13        551     13  1682725898237042  60.0      -1  cpu_op   \n",
              "14        551     14  1682725898237110  33.0      -1  cpu_op   \n",
              "15        551     15  1682725898237194  57.0      -1  cpu_op   \n",
              "16        551     16  1682725898237196  51.0      -1  cpu_op   \n",
              "17        551     17  1682725898237201  45.0      -1  cpu_op   \n",
              "\n",
              "                          s_name  \n",
              "13                      aten::mm  \n",
              "14                      aten::mm  \n",
              "15              SoftmaxBackward0  \n",
              "16              SoftmaxBackward0  \n",
              "17  aten::_softmax_backward_data  "
            ]
          },
          "execution_count": 3,
          "metadata": {},
          "output_type": "execute_result"
        }
      ],
      "source": [
        "from hta.common.trace_filter import TimeRangeFilter\n",
        "\n",
        "start_time = 1682725898237042\n",
        "end_time = 1682725898240570\n",
        "time_filter = TimeRangeFilter((start_time, end_time))\n",
        "selected_df = time_filter(df)\n",
        "print(f\"Found {len(selected_df)} matching events.\")\n",
        "selected_df.head()[[\"iteration\", \"index\", \"ts\", \"dur\", \"stream\", \"s_cat\", \"s_name\"]]\n"
      ]
    },
    {
      "cell_type": "markdown",
      "id": "16709f232a600773",
      "metadata": {
        "collapsed": false,
        "jupyter": {
          "outputs_hidden": false
        }
      },
      "source": [
        "## Filter events by a sequence of filters\n",
        "\n",
        "You can also compose a new composite filter by combining several trace filter objects.  "
      ]
    },
    {
      "cell_type": "code",
      "execution_count": null,
      "id": "405a8105c204d89b",
      "metadata": {
        "ExecuteTime": {
          "end_time": "2023-12-29T00:48:30.759335Z",
          "start_time": "2023-12-29T00:48:30.747744Z"
        },
        "collapsed": false,
        "jupyter": {
          "outputs_hidden": false
        }
      },
      "outputs": [
        {
          "name": "stdout",
          "output_type": "stream",
          "text": [
            "Found 5 matching events.\n"
          ]
        },
        {
          "data": {
            "text/html": [
              "<div>\n",
              "<style scoped>\n",
              "    .dataframe tbody tr th:only-of-type {\n",
              "        vertical-align: middle;\n",
              "    }\n",
              "\n",
              "    .dataframe tbody tr th {\n",
              "        vertical-align: top;\n",
              "    }\n",
              "\n",
              "    .dataframe thead th {\n",
              "        text-align: right;\n",
              "    }\n",
              "</style>\n",
              "<table border=\"1\" class=\"dataframe\">\n",
              "  <thead>\n",
              "    <tr style=\"text-align: right;\">\n",
              "      <th></th>\n",
              "      <th>iteration</th>\n",
              "      <th>index</th>\n",
              "      <th>ts</th>\n",
              "      <th>dur</th>\n",
              "      <th>stream</th>\n",
              "      <th>s_cat</th>\n",
              "      <th>s_name</th>\n",
              "    </tr>\n",
              "  </thead>\n",
              "  <tbody>\n",
              "    <tr>\n",
              "      <th>2512</th>\n",
              "      <td>551</td>\n",
              "      <td>2512</td>\n",
              "      <td>1682725898094377</td>\n",
              "      <td>30669.0</td>\n",
              "      <td>84</td>\n",
              "      <td>kernel</td>\n",
              "      <td>ncclKernel_SendRecv_RING_SIMPLE_Sum_int8_t</td>\n",
              "    </tr>\n",
              "    <tr>\n",
              "      <th>2570</th>\n",
              "      <td>551</td>\n",
              "      <td>2570</td>\n",
              "      <td>1682725898125052</td>\n",
              "      <td>62783.0</td>\n",
              "      <td>84</td>\n",
              "      <td>kernel</td>\n",
              "      <td>ncclKernel_SendRecv_RING_SIMPLE_Sum_int8_t</td>\n",
              "    </tr>\n",
              "    <tr>\n",
              "      <th>2962</th>\n",
              "      <td>551</td>\n",
              "      <td>2962</td>\n",
              "      <td>1682725898295662</td>\n",
              "      <td>11727.0</td>\n",
              "      <td>84</td>\n",
              "      <td>kernel</td>\n",
              "      <td>ncclKernel_SendRecv_RING_SIMPLE_Sum_int8_t</td>\n",
              "    </tr>\n",
              "    <tr>\n",
              "      <th>4554</th>\n",
              "      <td>551</td>\n",
              "      <td>4554</td>\n",
              "      <td>1682725898348496</td>\n",
              "      <td>47652.0</td>\n",
              "      <td>84</td>\n",
              "      <td>kernel</td>\n",
              "      <td>ncclKernel_SendRecv_RING_SIMPLE_Sum_int8_t</td>\n",
              "    </tr>\n",
              "    <tr>\n",
              "      <th>4794</th>\n",
              "      <td>551</td>\n",
              "      <td>4794</td>\n",
              "      <td>1682725898585321</td>\n",
              "      <td>42496.0</td>\n",
              "      <td>203</td>\n",
              "      <td>kernel</td>\n",
              "      <td>ncclKernel_SendRecv_RING_SIMPLE_Sum_int8_t</td>\n",
              "    </tr>\n",
              "  </tbody>\n",
              "</table>\n",
              "</div>"
            ],
            "text/plain": [
              "      iteration  index                ts      dur  stream   s_cat  \\\n",
              "2512        551   2512  1682725898094377  30669.0      84  kernel   \n",
              "2570        551   2570  1682725898125052  62783.0      84  kernel   \n",
              "2962        551   2962  1682725898295662  11727.0      84  kernel   \n",
              "4554        551   4554  1682725898348496  47652.0      84  kernel   \n",
              "4794        551   4794  1682725898585321  42496.0     203  kernel   \n",
              "\n",
              "                                          s_name  \n",
              "2512  ncclKernel_SendRecv_RING_SIMPLE_Sum_int8_t  \n",
              "2570  ncclKernel_SendRecv_RING_SIMPLE_Sum_int8_t  \n",
              "2962  ncclKernel_SendRecv_RING_SIMPLE_Sum_int8_t  \n",
              "4554  ncclKernel_SendRecv_RING_SIMPLE_Sum_int8_t  \n",
              "4794  ncclKernel_SendRecv_RING_SIMPLE_Sum_int8_t  "
            ]
          },
          "execution_count": 4,
          "metadata": {},
          "output_type": "execute_result"
        }
      ],
      "source": [
        "from hta.common.trace_filter import GPUKernelFilter, IterationIndexFilter, NameFilter, CompositeFilter\n",
        "\n",
        "nccl_kernels_in_first_iteration_filter = CompositeFilter([\n",
        "    IterationIndexFilter(0), \n",
        "    GPUKernelFilter(), \n",
        "    NameFilter(\"^nccl\", symbol_table=symbol_table)])\n",
        "selected_df = nccl_kernels_in_first_iteration_filter(df)\n",
        "print(f\"Found {len(selected_df)} matching events.\")\n",
        "selected_df.head()[[\"iteration\", \"index\", \"ts\", \"dur\", \"stream\", \"s_cat\", \"s_name\"]]"
      ]
    }
  ],
  "metadata": {
    "fileHeader": "",
    "fileUid": "38190a58-b3d1-43fe-8766-16f6d1501227",
    "isAdHoc": false,
    "kernelspec": {
      "display_name": "Python 3 (ipykernel)",
      "language": "python",
      "name": "python3"
    },
    "language_info": {
      "codemirror_mode": {
        "name": "ipython",
        "version": 3
      },
      "file_extension": ".py",
      "mimetype": "text/x-python",
      "name": "python",
      "nbconvert_exporter": "python",
      "pygments_lexer": "ipython3",
      "version": "3.10.13"
    }
  }
}
