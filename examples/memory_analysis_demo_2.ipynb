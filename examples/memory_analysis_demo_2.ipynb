{
 "cells": [
  {
   "cell_type": "markdown",
   "metadata": {},
   "source": [
    "# Memory analysis from traces\n",
    "\n",
    "When using the Pytorch profiler traces can be generated with profile information by using:\n",
    "\n",
    "```python\n",
    "torch.profiler.profile(\n",
    "    ...\n",
    "    with_memory=True,\n",
    "    with_stack=True,\n",
    "    ...\n",
    ")\n",
    "```\n",
    "\n",
    "This notebook shows how the `TraceAnalysis` object can be used to understand memory usage in Pytorch.\n",
    "\n",
    "A profile generated with this option is available at `HolisticTraceAnalyis/tests/data/torchtitan_h100/`"
   ]
  },
  {
   "cell_type": "markdown",
   "metadata": {},
   "source": [
    "__<font color='red'>\n",
    "Note: To run the notebook, ensure that the path to the HolisticTraceAnalysis repo is set appropriately in the `trace_dir` variable below.\n",
    "</font>__"
   ]
  },
  {
   "cell_type": "code",
   "execution_count": 1,
   "metadata": {},
   "outputs": [],
   "source": [
    "trace_prefix = \"~/HolisticTraceAnalysis\"\n",
    "# trace_prefix = \"..\"  # the right prefix for your machine"
   ]
  },
  {
   "cell_type": "markdown",
   "metadata": {},
   "source": [
    "## Loading the profile and displaying a simple memory timeline\n",
    "\n",
    "The timeline below plots the total memory allocated and total memory reserved as reported by the events."
   ]
  },
  {
   "cell_type": "code",
   "execution_count": null,
   "metadata": {},
   "outputs": [],
   "source": [
    "from hta.trace_analysis import TraceAnalysis\n",
    "analyzer = TraceAnalysis(trace_dir=f\"{trace_prefix}/tests/data/torchtitan_h100/\")\n",
    "memory_events = analyzer.get_memory_timeline()"
   ]
  },
  {
   "cell_type": "code",
   "execution_count": null,
   "metadata": {},
   "outputs": [],
   "source": [
    "memory_events.head()"
   ]
  },
  {
   "cell_type": "markdown",
   "metadata": {},
   "source": [
    "## Categorising memory usage\n",
    "\n",
    "A more detailed analysis of the memory timeline can be done by cross-referencing the instantaneous allocation and deallocations with the rest of the events.\n",
    "\n",
    "This lets us associate memory events with a `stack_name` and a `stack_type`."
   ]
  },
  {
   "cell_type": "code",
   "execution_count": null,
   "metadata": {},
   "outputs": [],
   "source": [
    "categorised_memory_timelines, memory_events = analyzer.get_memory_timeline_per_category()"
   ]
  },
  {
   "cell_type": "markdown",
   "metadata": {},
   "source": [
    "## Using categorised data for further analysis\n",
    "\n",
    "The data that was processed from the trace is made available through a dictionary of Dataframes.\n",
    "The index of dictionary is the device associated with the memory events.\n",
    "\n",
    "Note the `stack_ids`, `stack_name`, `alloc_or_dealloc_id` and `stack_type`."
   ]
  },
  {
   "cell_type": "code",
   "execution_count": null,
   "metadata": {},
   "outputs": [],
   "source": [
    "print(memory_events.keys())\n",
    "memory_events[0].head()"
   ]
  },
  {
   "cell_type": "markdown",
   "metadata": {},
   "source": [
    "This data can also be used to make custom plots - for example with plotly below:"
   ]
  },
  {
   "cell_type": "code",
   "execution_count": null,
   "metadata": {},
   "outputs": [],
   "source": [
    "import pandas as pd\n",
    "pd.options.plotting.backend = \"plotly\"\n",
    "print(categorised_memory_timelines[0].columns)\n",
    "non_category_columns = ['ts', 'bytes_delta', 'stack_name', 'is_plotting_event_only', 'category']\n",
    "categorised_memory_timelines[0].drop(non_category_columns, axis=1).set_index(\"ms\").plot()"
   ]
  },
  {
   "cell_type": "markdown",
   "metadata": {},
   "source": [
    "## Using custom classifiers and visualisations\n",
    "\n",
    "The profile above shows a large memory spike. This tooling can help you\n",
    "identify what kernels are allocating this data.\n",
    "\n",
    "The first step is to define a classification function - this is a straightforward function\n",
    "which operates on the trace dataframes. "
   ]
  },
  {
   "cell_type": "code",
   "execution_count": null,
   "metadata": {},
   "outputs": [],
   "source": [
    "def classify_big_allocs(row):\n",
    "    if row[\"bytes_delta\"] > 5e9:\n",
    "        return \"very_big_alloc (>5gB)\"\n",
    "    elif row[\"bytes_delta\"] > 1e9:\n",
    "        return \"big_alloc (>1gB)\"\n",
    "    elif row[\"bytes_delta\"] <1e6:\n",
    "        return \"small_alloc (<1mb)\"\n",
    "    return \"normal_alloc\"\n",
    "\n",
    "alloc_sizes, _ = analyzer.get_memory_timeline_per_category(classification_func=classify_big_allocs)"
   ]
  },
  {
   "cell_type": "markdown",
   "metadata": {},
   "source": [
    "In the plot below we show how the timeline data can be melted in a long format such that the `stack_name` variable can be made to appear in the tool tip on the graph."
   ]
  },
  {
   "cell_type": "code",
   "execution_count": null,
   "metadata": {},
   "outputs": [],
   "source": [
    "import plotly.express as px\n",
    "timelines: pd.DataFrame = alloc_sizes[0]\n",
    "df_melted = timelines.set_index(\"ts\").sort_index().drop([\"category\", \"bytes_delta\"], axis=\"columns\").melt(id_vars=['ms', 'stack_name', 'is_plotting_event_only'], var_name=\"column\", value_name=\"value\", ignore_index=False).dropna()\n",
    "\n",
    "def reformat_stack_name(stack_name):\n",
    "    return stack_name.split(\";\")[-1]\n",
    "\n",
    "\n",
    "df_melted[\"stack_name\"] = df_melted.stack_name.apply(reformat_stack_name)\n",
    "# create a plotly express figure\n",
    "fig = px.line(df_melted, x=df_melted.index, y='value', color='column', hover_data=['stack_name'])\n",
    "fig.update_layout(title=\"Hover over this figure to see the stack names on the line\")\n",
    "# show the plot\n",
    "fig.show()"
   ]
  }
 ],
 "metadata": {
  "kernelspec": {
   "display_name": ".venv",
   "language": "python",
   "name": "python3"
  },
  "language_info": {
   "codemirror_mode": {
    "name": "ipython",
    "version": 3
   },
   "file_extension": ".py",
   "mimetype": "text/x-python",
   "name": "python",
   "nbconvert_exporter": "python",
   "pygments_lexer": "ipython3",
   "version": "3.10.15"
  }
 },
 "nbformat": 4,
 "nbformat_minor": 2
}
