{
 "cells": [
  {
   "cell_type": "markdown",
   "id": "12fe8072-851a-4bf2-bc35-afa62c94c04d",
   "metadata": {},
   "source": [
    "# Timeline Analysis Demo\n",
    "\n",
    "In trace analysis, a timeline refers to a visual representation of a sequence of events occurring over a specific period of time. \n",
    "The timeline can help analysts identify patterns, trends, and anomalies, as well as understand dependencies and interactions between different components in the system. \n",
    "\n",
    "In HTA, creating a timeline plot involves the following steps:\n",
    "\n",
    "1. Load, parse, or transform the traces into a single DataFrame. This DataFrame may contain traces for a single rank, multiple ranks, or multiple traces. The DataFrame can contain either CPU events, GPU events, or both.\n",
    "2. Create a new DataFrame for the timeline plot by calling `prepare_timeline_events()`. This DataFrame will contain the calibrated starting and ending timestamps, the task labels, as well as other values for display.\n",
    "3. Plot the timeline by calling `plot_events_timeline()`. The timeline figure can be saved to an HTML file or output as an HTML string representing the figure.\n",
    "\n",
    "To customize the plot, you can create a `TimelinePlotSetting` object with your desired customizations and pass it to `prepare_timeline_events()` and `plot_events_timeline()`.\n",
    "\n",
    "To streamline this process, HTA also provides a Timeline class to combine step 2 and 3.\n",
    "\n",
    "The following cell illustrates creating several types of timeline plots following the above steps. For a demonstration purpose, we load parsed traces from several .csv files to reduce the trace parsing time."
   ]
  },
  {
   "cell_type": "markdown",
   "id": "971a5169-70c8-4ea5-877a-d8ed5d49b9c5",
   "metadata": {},
   "source": [
    "## Data-driven timeline plot\n",
    "\n",
    "The timeline plotting utilities offered by HTA are inherently data-driven. These tools can be used to visualize a wide range of scenarios, including individual traces, traces across multiple ranks, multiple job traces, and specific filtered events. The flexibility of these utilities lies in their ability to adapt to different contexts; the only requirements are modifying the input DataFrame and adjusting the filter function as needed."
   ]
  },
  {
   "cell_type": "code",
   "execution_count": null,
   "id": "9493fa56-2177-4eb6-995e-903c947212d5",
   "metadata": {},
   "outputs": [],
   "source": [
    "# ON_GITHUB = True\n",
    "ON_GITHUB = False\n",
    "if ON_GITHUB:\n",
    "    import plotly.io as pio\n",
    "    pio.renderers.default = \"svg\""
   ]
  },
  {
   "cell_type": "markdown",
   "id": "1d257ab0-0b93-4b2d-b43e-32a70b5d7f02",
   "metadata": {},
   "source": [
    "## Load the traces"
   ]
  },
  {
   "cell_type": "code",
   "execution_count": null,
   "id": "initial_id",
   "metadata": {
    "ExecuteTime": {
     "end_time": "2023-12-29T06:24:51.307971Z",
     "start_time": "2023-12-29T06:24:50.305684Z"
    }
   },
   "outputs": [],
   "source": [
    "from hta.common.trace import Trace\n",
    "from hta.common.trace_call_graph import CallGraph\n",
    "import hta\n",
    "import os\n",
    "from pathlib import Path\n",
    "\n",
    "# Load the traces in a folder\n",
    "base_data_dir = str(Path(hta.__file__).parent.parent.joinpath(\"tests/data\"))\n",
    "trace_dir: str = os.path.join(base_data_dir, \"trace_filter\")\n",
    "t = Trace(trace_dir=os.path.join(base_data_dir, \"trace_filter\"))\n",
    "t.parse_traces()\n",
    "\n",
    "# Decode the symbol columns (i.e., `name` and `cat`) \n",
    "t.decode_symbol_ids()\n",
    "\n",
    "# Construct the call stacks for two ranks\n",
    "cg = CallGraph(t, ranks=[0, 1])\n",
    "\n",
    "# Save a dataframe and symbol table for subsequent references\n",
    "df = t.get_trace(0)\n",
    "symbol_table = t.symbol_table"
   ]
  },
  {
   "cell_type": "markdown",
   "id": "64a619df-df76-432d-96e8-7578a8a5aede",
   "metadata": {},
   "source": [
    "## Plot the timeline using the Timeline class\n",
    "\n",
    "The Timeline class is a simply way to create a timeline plot. By default, a Timeline object generates all timeline events ad then plots them in a single plot."
   ]
  },
  {
   "cell_type": "code",
   "execution_count": null,
   "id": "ccc5236b-ba91-4b3d-9137-dba559c3243c",
   "metadata": {
    "scrolled": true
   },
   "outputs": [],
   "source": [
    "from hta.common.timeline import Timeline, PlotFormat\n",
    "\n",
    "Timeline(df, symbol_table).plot(\"a simple timeline\")"
   ]
  },
  {
   "cell_type": "markdown",
   "id": "301f31d1-92d3-432e-9bb8-7b863be2e870",
   "metadata": {},
   "source": [
    "## Tailored Timeline with Trace Filters\n",
    "\n",
    "You can achive better targeted timeline analysis by applying a tailored filter object to the input trace data frame, ensuring a focused and relevant analysis of the specific events of interest."
   ]
  },
  {
   "cell_type": "code",
   "execution_count": null,
   "id": "34f7c080-7316-4f5a-8dac-6708c762f776",
   "metadata": {},
   "outputs": [],
   "source": [
    "from hta.common.trace_filter import GPUKernelFilter\n",
    "\n",
    "Timeline(df, symbol_table, filter_func=GPUKernelFilter()).plot(\"a timeline of GPU events\")"
   ]
  },
  {
   "cell_type": "markdown",
   "id": "719e183b-08dc-463e-80ca-d60361e12bd0",
   "metadata": {},
   "source": [
    "## Custom Trace Filtering for Timeline Plotting\n",
    "\n",
    "To achieve finer control over your analysis, you can create a custom Trace Filter function. This allows you to selectively target the specific trace events in your timeline analysis."
   ]
  },
  {
   "cell_type": "code",
   "execution_count": null,
   "id": "3042355d-e936-43ba-8381-40782228279c",
   "metadata": {},
   "outputs": [],
   "source": [
    "import pandas as pd\n",
    "from hta.common.trace import TraceSymbolTable\n",
    "from hta.common.trace_filter import Filter, IterationIndexFilter, NameFilter, GPUKernelFilter\n",
    "\n",
    "class MyKernelFilter(Filter):\n",
    "    def __init__(self, name_pattern: str, iteration_index: int) -> None:\n",
    "        self.name_pattern = name_pattern\n",
    "        self.iteration_index = iteration_index\n",
    "        \n",
    "    def __call__(self, df: pd.DataFrame, symbol_table: TraceSymbolTable) -> pd.DataFrame:\n",
    "        df = IterationIndexFilter(self.iteration_index)(df, symbol_table)\n",
    "        df = GPUKernelFilter()(df, symbol_table)\n",
    "        df = NameFilter(self.name_pattern)(df, symbol_table)\n",
    "        return df\n",
    "\n",
    "my_filter = MyKernelFilter(r\"(.+embedding)|(^nccl)|(Memcpy)\", iteration_index=1)\n",
    "Timeline(df, symbol_table, filter_func=my_filter).plot(\"a simple timeline\")"
   ]
  },
  {
   "cell_type": "markdown",
   "id": "5a6797ed-fdfe-47d1-a000-fc3252b08d4b",
   "metadata": {},
   "source": [
    "## Align GPU events with corresponding CPU operators or annotations\n",
    "\n",
    "To provid a coherent and integrated view of the activity across both CPU and GPU devices, you can align the GPU events with their respective CPU operators or annotations by shifting the starting time of the CPU events to their first GPU kernels's starting time."
   ]
  },
  {
   "cell_type": "code",
   "execution_count": null,
   "id": "0a606112-0bdf-412b-b653-0341bf9d7876",
   "metadata": {},
   "outputs": [],
   "source": [
    "from hta.common.timeline import align_module_with_kernels\n",
    "\n",
    "df_aligned = align_module_with_kernels(df, module_list=[\"## forward ##\", \"## backward ##\", \"## optimizer ##\"], sym_table=symbol_table)\n",
    "Timeline(df_aligned, symbol_table).plot(\"operator highlight\")"
   ]
  }
 ],
 "metadata": {
  "kernelspec": {
   "display_name": "Python 3 (ipykernel)",
   "language": "python",
   "name": "python3"
  },
  "language_info": {
   "codemirror_mode": {
    "name": "ipython",
    "version": 3
   },
   "file_extension": ".py",
   "mimetype": "text/x-python",
   "name": "python",
   "nbconvert_exporter": "python",
   "pygments_lexer": "ipython3",
   "version": "3.10.13"
  }
 },
 "nbformat": 4,
 "nbformat_minor": 5
}
